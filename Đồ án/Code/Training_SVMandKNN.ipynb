{
  "nbformat": 4,
  "nbformat_minor": 0,
  "metadata": {
    "colab": {
      "name": "Training_SVMandKNN.ipynb",
      "provenance": [],
      "collapsed_sections": [],
      "include_colab_link": true
    },
    "kernelspec": {
      "name": "python3",
      "display_name": "Python 3"
    },
    "accelerator": "GPU"
  },
  "cells": [
    {
      "cell_type": "markdown",
      "metadata": {
        "id": "view-in-github",
        "colab_type": "text"
      },
      "source": [
        "<a href=\"https://colab.research.google.com/github/chequanghuy/CS114.K21/blob/master/%C4%90%E1%BB%93%20%C3%A1n/Code/Training_SVMandKNN.ipynb\" target=\"_parent\"><img src=\"https://colab.research.google.com/assets/colab-badge.svg\" alt=\"Open In Colab\"/></a>"
      ]
    },
    {
      "cell_type": "markdown",
      "metadata": {
        "id": "yi6J9cslz86D",
        "colab_type": "text"
      },
      "source": [
        "**Import thư viện**"
      ]
    },
    {
      "cell_type": "markdown",
      "metadata": {
        "id": "0oZwFImdaU0s",
        "colab_type": "text"
      },
      "source": [
        "# Import thư viện"
      ]
    },
    {
      "cell_type": "code",
      "metadata": {
        "id": "kDtTWlHEY4ZW",
        "colab_type": "code",
        "colab": {
          "base_uri": "https://localhost:8080/",
          "height": 71
        },
        "outputId": "5dc8a373-1234-474d-e358-87e22eac720e"
      },
      "source": [
        "import cv2\n",
        "import copy\n",
        "import numpy as np \n",
        "import os\n",
        "import random\n",
        "from sklearn import svm\n",
        "from sklearn.externals import joblib\n",
        "from sklearn import metrics\n",
        "from sklearn.model_selection import train_test_split\n",
        " \n",
        "import matplotlib.pyplot as plt \n",
        "from sklearn.neighbors import KNeighborsClassifier"
      ],
      "execution_count": null,
      "outputs": [
        {
          "output_type": "stream",
          "text": [
            "/usr/local/lib/python3.6/dist-packages/sklearn/externals/joblib/__init__.py:15: FutureWarning: sklearn.externals.joblib is deprecated in 0.21 and will be removed in 0.23. Please import this functionality directly from joblib, which can be installed with: pip install joblib. If this warning is raised when loading pickled models, you may need to re-serialize those models with scikit-learn 0.21+.\n",
            "  warnings.warn(msg, category=FutureWarning)\n"
          ],
          "name": "stderr"
        }
      ]
    },
    {
      "cell_type": "markdown",
      "metadata": {
        "id": "KFrKiN4paaTw",
        "colab_type": "text"
      },
      "source": [
        "# Define đường dẫn"
      ]
    },
    {
      "cell_type": "markdown",
      "metadata": {
        "id": "36sePPgo0Ao1",
        "colab_type": "text"
      },
      "source": [
        "**Define đường dẫn**"
      ]
    },
    {
      "cell_type": "code",
      "metadata": {
        "id": "YLA9JVgnbFvw",
        "colab_type": "code",
        "colab": {}
      },
      "source": [
        "ROOT_PATH = \"data\"\n",
        "PATH_WEIGHT = \"weight\""
      ],
      "execution_count": null,
      "outputs": []
    },
    {
      "cell_type": "markdown",
      "metadata": {
        "id": "85N2eS8zafjZ",
        "colab_type": "text"
      },
      "source": [
        "# Di chuyển đến drive"
      ]
    },
    {
      "cell_type": "markdown",
      "metadata": {
        "id": "6LN-4HIY0ZBK",
        "colab_type": "text"
      },
      "source": [
        "**Trỏ đến drive**"
      ]
    },
    {
      "cell_type": "code",
      "metadata": {
        "id": "hPvZ_vXCZ1Jq",
        "colab_type": "code",
        "colab": {
          "base_uri": "https://localhost:8080/",
          "height": 122
        },
        "outputId": "775eef0b-dc0f-47fe-da5a-2a040ae7346b"
      },
      "source": [
        "from google.colab import drive\n",
        "drive.mount('/content/drive')\n",
        "%cd /content/drive/My Drive/Colab\\ Notebooks/Doan/plate_bike"
      ],
      "execution_count": null,
      "outputs": [
        {
          "output_type": "stream",
          "text": [
            "Go to this URL in a browser: https://accounts.google.com/o/oauth2/auth?client_id=947318989803-6bn6qk8qdgf4n4g3pfee6491hc0brc4i.apps.googleusercontent.com&redirect_uri=urn%3aietf%3awg%3aoauth%3a2.0%3aoob&scope=email%20https%3a%2f%2fwww.googleapis.com%2fauth%2fdocs.test%20https%3a%2f%2fwww.googleapis.com%2fauth%2fdrive%20https%3a%2f%2fwww.googleapis.com%2fauth%2fdrive.photos.readonly%20https%3a%2f%2fwww.googleapis.com%2fauth%2fpeopleapi.readonly&response_type=code\n",
            "\n",
            "Enter your authorization code:\n",
            "··········\n",
            "Mounted at /content/drive\n"
          ],
          "name": "stdout"
        }
      ]
    },
    {
      "cell_type": "markdown",
      "metadata": {
        "id": "apVJ4eIeamEY",
        "colab_type": "text"
      },
      "source": [
        "# Hàm đọc dữ liệu và gán lưu lại nhãn"
      ]
    },
    {
      "cell_type": "markdown",
      "metadata": {
        "id": "9LBZJ-0X0dfS",
        "colab_type": "text"
      },
      "source": [
        "**Hàm đọc dữ liệu, đọc ảnh song song với việc gán nhãn cho ảnh (tên thư mục chứa ảnh) sau đó đưa ảnh về ảnh binary sau đó đưa về vecto**"
      ]
    },
    {
      "cell_type": "code",
      "metadata": {
        "id": "A6swlJIvauMG",
        "colab_type": "code",
        "colab": {}
      },
      "source": [
        "# Đọc dữ liệu dùng để training trong thư mục chỉ định, ở đây là thư mục data\n",
        "def load_data(data_dir):\n",
        "    #kiểm tra xem d có phải thư mục trong \"data\" hay không nếu đúng thì thêm vào directories\n",
        "    directories = [d for d in os.listdir(data_dir) \n",
        "                   if os.path.isdir(os.path.join(data_dir, d))] \n",
        "    labels = []\n",
        "    images = []\n",
        "    for d in directories:\n",
        "        #chuyển đường dẫn đến thư mục d\n",
        "        label_dir = os.path.join(data_dir, d)\n",
        "        #kiểm tra nếu là file.jpg thì thêm vào file_names\n",
        "        file_names = [os.path.join(label_dir, f) \n",
        "                      for f in os.listdir(label_dir) ]\n",
        "        #images chứa các vecto (1,50*50) sau khi đã chuyển ảnh sang trắng đen\n",
        "        #labels chứa nhãn của các bức tranh với vị trí tương ứng bên mảng images\n",
        "        for f in file_names:\n",
        "            gray = cv2.cvtColor(cv2.resize(cv2.imread(f),(50,50)), cv2.COLOR_BGR2GRAY)\n",
        "            _, gray = cv2.threshold(gray,0,255,cv2.THRESH_BINARY_INV | cv2.THRESH_OTSU)\n",
        "            images.append(np.array(gray.reshape(gray.shape[0]*gray.shape[1])))\n",
        "            labels.append(int(d))\n",
        "    \n",
        "    return np.array(images), np.array(labels)"
      ],
      "execution_count": null,
      "outputs": []
    },
    {
      "cell_type": "markdown",
      "metadata": {
        "id": "IhHo6yvaarYm",
        "colab_type": "text"
      },
      "source": [
        "# Hàm training SVM"
      ]
    },
    {
      "cell_type": "markdown",
      "metadata": {
        "id": "0o0ESfCH006t",
        "colab_type": "text"
      },
      "source": [
        "**Hàm training model bằng SVM (ở đây dùng biến thử SVC) sau đó dự đoán thử trên tập test**"
      ]
    },
    {
      "cell_type": "code",
      "metadata": {
        "id": "omBnKMQYa_3P",
        "colab_type": "code",
        "colab": {}
      },
      "source": [
        "# Phân lớp bằng thuật toán SVM để huấn luyện cho mô hình nhận diện ký tự \n",
        "def linear_svm(X_train, y_train ,X_test, y_test):\n",
        "    print(\"[!] SVM data...\")\n",
        "    Svm = svm.SVC(kernel='linear').fit(X_train, y_train)\n",
        "    y_pred = Svm.predict(X_test)\n",
        "    # print(y_pred)\n",
        "    print(\"score\", metrics.accuracy_score(y_test, y_pred))\n",
        "    print(\"[+] Finished\")\n",
        "    return Svm"
      ],
      "execution_count": null,
      "outputs": []
    },
    {
      "cell_type": "markdown",
      "metadata": {
        "id": "u8FezH3Jav3F",
        "colab_type": "text"
      },
      "source": [
        "# Hàm traning KNN"
      ]
    },
    {
      "cell_type": "markdown",
      "metadata": {
        "id": "l92VdSPY1CZf",
        "colab_type": "text"
      },
      "source": [
        "**Hàm training model bằng KNN, trước tiên sẽ tìm hệ số K tốt nhất (2,26) sau đó dự đoán thử trên tập test**"
      ]
    },
    {
      "cell_type": "code",
      "metadata": {
        "id": "t1yivKigcIFH",
        "colab_type": "code",
        "colab": {}
      },
      "source": [
        "# Phân lớp bằng thuật toán KNN để huấn luyện cho mô hình nhận diện ký tự \n",
        "def KNN(X_train, y_train,X_test,y_test):\n",
        "    print(\"[!] KNN data...\")\n",
        "    # tìm K tốt nhất\n",
        "    best_score=0\n",
        "    best_K=1\n",
        "    for k in range(2,26):\n",
        "      Knn = KNeighborsClassifier(n_neighbors=k)\n",
        "      Knn.fit(X_train, y_train)\n",
        "      y_pred = Knn.predict(X_test)\n",
        "      # print(y_pred)\n",
        "      # print(len(y_test))\n",
        "      Scr=metrics.accuracy_score(y_test, y_pred)\n",
        "     \n",
        "      print(k,\" \", Scr)\n",
        "      if Scr > best_score:      #nếu score tốt hơn score tốt nhất trước đó, cập nhật hệ số K\n",
        "        best_K=k\n",
        "        best_score=Scr\n",
        "    print(\"Best K is :\"+str(best_K))\n",
        "    Knn = KNeighborsClassifier(n_neighbors=best_K)\n",
        "    Knn.fit(X_train,y_train)\n",
        "    y_pred = Knn.predict(X_test)\n",
        "    print(\"score\", metrics.accuracy_score(y_test, y_pred))\n",
        "    print(\"[+] Finished\")\n",
        "    return Knn"
      ],
      "execution_count": null,
      "outputs": []
    },
    {
      "cell_type": "markdown",
      "metadata": {
        "id": "thBQfv0Jaziv",
        "colab_type": "text"
      },
      "source": [
        "# Lưu model"
      ]
    },
    {
      "cell_type": "markdown",
      "metadata": {
        "id": "aqyCG1cq1RmP",
        "colab_type": "text"
      },
      "source": [
        "**Lưu model đã training vào đường dẫn chỉ định**"
      ]
    },
    {
      "cell_type": "code",
      "metadata": {
        "id": "T03iV416bL3w",
        "colab_type": "code",
        "colab": {}
      },
      "source": [
        "# Lưu trọng số đã được huấn luyện vào thư mục chỉ định, ở đây là thư mục weight\n",
        "def save_model(model, name, db):\n",
        "    \n",
        "    #nếu chưa tồn tại PATH thì tạo ra PATH\n",
        "    if not os.path.exists(db):\n",
        "        os.makedirs(db)\n",
        "    #thay đổi thư mục làm việc\n",
        "    os.chdir(db)\n",
        "    file_name = name + \".joblib\"\n",
        "    print(\"[+] Saving model to file : \" ,file_name)\n",
        "    joblib.dump(model, file_name)"
      ],
      "execution_count": null,
      "outputs": []
    },
    {
      "cell_type": "markdown",
      "metadata": {
        "id": "VYlmGybya10P",
        "colab_type": "text"
      },
      "source": [
        "# Đọc và thống kê dữ liệu"
      ]
    },
    {
      "cell_type": "markdown",
      "metadata": {
        "id": "HDpJ8XJK1Y6P",
        "colab_type": "text"
      },
      "source": [
        "**Read data**"
      ]
    },
    {
      "cell_type": "code",
      "metadata": {
        "id": "7BhuRYdjbOw1",
        "colab_type": "code",
        "colab": {
          "base_uri": "https://localhost:8080/",
          "height": 812
        },
        "outputId": "18b93b3d-d196-449e-8711-ce87dd065c0d"
      },
      "source": [
        "import pandas as pd\n",
        "train_data_dir = os.path.join(ROOT_PATH)\n",
        "# Doc du lieu\n",
        "X, y = load_data(train_data_dir)\n",
        "print(\"Read data done\")\n",
        "df = pd.DataFrame({\n",
        "    'train_label': y,\n",
        "})\n",
        "df['train_label'].value_counts().plot.bar()\n",
        "print(df['train_label'].value_counts())\n"
      ],
      "execution_count": null,
      "outputs": [
        {
          "output_type": "stream",
          "text": [
            "Read data done\n",
            "1     291\n",
            "6     233\n",
            "0     210\n",
            "7     188\n",
            "9     177\n",
            "4     174\n",
            "2     172\n",
            "5     167\n",
            "3     162\n",
            "8     114\n",
            "15     39\n",
            "11     34\n",
            "10     26\n",
            "17     22\n",
            "14     16\n",
            "28     13\n",
            "12     11\n",
            "20     11\n",
            "33     11\n",
            "13     11\n",
            "16     10\n",
            "25     10\n",
            "21     10\n",
            "31     10\n",
            "22      9\n",
            "30      8\n",
            "23      8\n",
            "29      7\n",
            "27      4\n",
            "34      2\n",
            "Name: train_label, dtype: int64\n"
          ],
          "name": "stdout"
        },
        {
          "output_type": "display_data",
          "data": {
            "image/png": "[encoded data removed]",
            "text/plain": [
              "<Figure size 432x288 with 1 Axes>"
            ]
          },
          "metadata": {
            "tags": [],
            "needs_background": "light"
          }
        }
      ]
    },
    {
      "cell_type": "markdown",
      "metadata": {
        "id": "pUr9GhIva9zv",
        "colab_type": "text"
      },
      "source": [
        "# Chia dữ liệu"
      ]
    },
    {
      "cell_type": "markdown",
      "metadata": {
        "id": "DH3DuGjD1dOb",
        "colab_type": "text"
      },
      "source": [
        "**Chia tập dữ liệu 80% cho training 20% cho test**"
      ]
    },
    {
      "cell_type": "code",
      "metadata": {
        "id": "L1HQ03B1txSR",
        "colab_type": "code",
        "colab": {
          "base_uri": "https://localhost:8080/",
          "height": 34
        },
        "outputId": "97260b41-e5a2-4084-8d64-2191ee83715a"
      },
      "source": [
        "X_train, X_test, y_train, y_test = train_test_split(X, y, test_size=0.2, random_state=42)\n",
        "print(\"split data done\")"
      ],
      "execution_count": null,
      "outputs": [
        {
          "output_type": "stream",
          "text": [
            "split data done\n"
          ],
          "name": "stdout"
        }
      ]
    },
    {
      "cell_type": "markdown",
      "metadata": {
        "id": "2UMyCXoXbAyq",
        "colab_type": "text"
      },
      "source": [
        "# Training"
      ]
    },
    {
      "cell_type": "markdown",
      "metadata": {
        "id": "7nVkpp2q1kuK",
        "colab_type": "text"
      },
      "source": [
        "**Chọn training SVM**"
      ]
    },
    {
      "cell_type": "code",
      "metadata": {
        "id": "JR04X5dInpjT",
        "colab_type": "code",
        "colab": {
          "base_uri": "https://localhost:8080/",
          "height": 85
        },
        "outputId": "7746dd42-ece5-4164-8c25-8d4461cc7c23"
      },
      "source": [
        "svmFlag=True\n",
        "if svmFlag is True:\n",
        "  model = linear_svm(X_train, y_train,X_test,y_test)\n",
        "  # Luu trong so da huan luyen\n",
        "  save_model(model, \"svm\", PATH_WEIGHT)"
      ],
      "execution_count": null,
      "outputs": [
        {
          "output_type": "stream",
          "text": [
            "[!] SVM data...\n",
            "score 0.9421296296296297\n",
            "[+] Finished\n",
            "[+] Saving model to file :  svm.joblib\n"
          ],
          "name": "stdout"
        }
      ]
    },
    {
      "cell_type": "markdown",
      "metadata": {
        "id": "QtVwwKzD1nW5",
        "colab_type": "text"
      },
      "source": [
        "**Chọn training KNN**"
      ]
    },
    {
      "cell_type": "code",
      "metadata": {
        "id": "CizPwraBnwg_",
        "colab_type": "code",
        "colab": {
          "base_uri": "https://localhost:8080/",
          "height": 510
        },
        "outputId": "3beafd3c-d29f-4b78-abf7-8ed68fd5ae4d"
      },
      "source": [
        "knnFlag=True\n",
        "if knnFlag is True:\n",
        "  model=KNN(X_train, y_train,X_test,y_test)\n",
        "  save_model(model, \"knn\", PATH_WEIGHT)"
      ],
      "execution_count": null,
      "outputs": [
        {
          "output_type": "stream",
          "text": [
            "[!] KNN data...\n",
            "2   0.8935185185185185\n",
            "3   0.9004629629629629\n",
            "4   0.8935185185185185\n",
            "5   0.8888888888888888\n",
            "6   0.8888888888888888\n",
            "7   0.8865740740740741\n",
            "8   0.8773148148148148\n",
            "9   0.875\n",
            "10   0.8587962962962963\n",
            "11   0.8634259259259259\n",
            "12   0.8541666666666666\n",
            "13   0.8611111111111112\n",
            "14   0.8518518518518519\n",
            "15   0.8425925925925926\n",
            "16   0.8425925925925926\n",
            "17   0.8356481481481481\n",
            "18   0.8333333333333334\n",
            "19   0.8287037037037037\n",
            "20   0.8333333333333334\n",
            "21   0.8287037037037037\n",
            "22   0.8287037037037037\n",
            "23   0.8263888888888888\n",
            "24   0.8263888888888888\n",
            "25   0.8263888888888888\n",
            "Best K is :3\n",
            "score 0.9004629629629629\n",
            "[+] Finished\n",
            "[+] Saving model to file :  knn.joblib\n"
          ],
          "name": "stdout"
        }
      ]
    }
  ]
}