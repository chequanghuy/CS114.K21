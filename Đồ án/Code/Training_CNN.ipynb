{
  "nbformat": 4,
  "nbformat_minor": 0,
  "metadata": {
    "colab": {
      "name": "Training_CNN.ipynb",
      "provenance": [],
      "collapsed_sections": [],
      "toc_visible": true
    },
    "kernelspec": {
      "name": "python3",
      "display_name": "Python 3"
    },
    "accelerator": "GPU"
  },
  "cells": [
    {
      "cell_type": "markdown",
      "metadata": {
        "id": "ON7E1FHb7TJp",
        "colab_type": "text"
      },
      "source": [
        "# **import tất cả thư viện cần thiết**"
      ]
    },
    {
      "cell_type": "code",
      "metadata": {
        "id": "xJ2EkeP3NEpO",
        "colab_type": "code",
        "colab": {
          "base_uri": "https://localhost:8080/",
          "height": 35
        },
        "outputId": "2acf6a9c-6c8e-4303-c359-d510a1fa54fa"
      },
      "source": [
        "# Thêm thư viện\n",
        "from sklearn.linear_model import LogisticRegression\n",
        "from sklearn.model_selection import GridSearchCV\n",
        "from sklearn.metrics import classification_report\n",
        "from keras.applications import VGG16\n",
        "from keras.applications import imagenet_utils\n",
        "from keras.preprocessing.image import img_to_array\n",
        "from keras.preprocessing.image import load_img\n",
        "from sklearn.preprocessing import LabelEncoder\n",
        "from sklearn.preprocessing import LabelBinarizer\n",
        "from sklearn.model_selection import train_test_split\n",
        "from keras.preprocessing.image import ImageDataGenerator\n",
        "from keras.optimizers import SGD\n",
        "from keras.optimizers import RMSprop\n",
        "from keras.applications import VGG16\n",
        "from keras.layers import Input\n",
        "from keras.models import Model\n",
        "from keras.layers.core import Dense\n",
        "from keras.layers.core import Dropout\n",
        "from keras.layers.core import Flatten\n",
        "import numpy as np\n",
        "import random\n",
        "import os"
      ],
      "execution_count": null,
      "outputs": [
        {
          "output_type": "stream",
          "text": [
            "Using TensorFlow backend.\n"
          ],
          "name": "stderr"
        }
      ]
    },
    {
      "cell_type": "markdown",
      "metadata": {
        "id": "G1qyGhq57Rtt",
        "colab_type": "text"
      },
      "source": [
        "# Truy cập vào drive để lấy dữ liệu"
      ]
    },
    {
      "cell_type": "markdown",
      "metadata": {
        "id": "t1aKCrK8n9M0",
        "colab_type": "text"
      },
      "source": [
        "****\n",
        "\n",
        "\n"
      ]
    },
    {
      "cell_type": "code",
      "metadata": {
        "id": "860LfGxHRnm8",
        "colab_type": "code",
        "colab": {
          "base_uri": "https://localhost:8080/",
          "height": 126
        },
        "outputId": "5d4f9263-988e-4a9b-c3b7-61e76f3d1abc"
      },
      "source": [
        "from google.colab import drive\n",
        "drive.mount('/content/drive')\n",
        "%cd /content/drive/My\\ Drive/Colab\\ Notebooks/"
      ],
      "execution_count": null,
      "outputs": [
        {
          "output_type": "stream",
          "text": [
            "Go to this URL in a browser: https://accounts.google.com/o/oauth2/auth?client_id=947318989803-6bn6qk8qdgf4n4g3pfee6491hc0brc4i.apps.googleusercontent.com&redirect_uri=urn%3aietf%3awg%3aoauth%3a2.0%3aoob&response_type=code&scope=email%20https%3a%2f%2fwww.googleapis.com%2fauth%2fdocs.test%20https%3a%2f%2fwww.googleapis.com%2fauth%2fdrive%20https%3a%2f%2fwww.googleapis.com%2fauth%2fdrive.photos.readonly%20https%3a%2f%2fwww.googleapis.com%2fauth%2fpeopleapi.readonly\n",
            "\n",
            "Enter your authorization code:\n",
            "··········\n",
            "Mounted at /content/drive\n"
          ],
          "name": "stdout"
        }
      ]
    },
    {
      "cell_type": "markdown",
      "metadata": {
        "id": "_PIrhsfaoLu2",
        "colab_type": "text"
      },
      "source": [
        "****"
      ]
    },
    {
      "cell_type": "markdown",
      "metadata": {
        "id": "gsXKy5bm7gu8",
        "colab_type": "text"
      },
      "source": [
        "# Truy cập vào forder chứa data sau đó lưu lại đường dẫn kèm theo nhãn là tên forder chứa ảnh"
      ]
    },
    {
      "cell_type": "code",
      "metadata": {
        "id": "-S_qUBSJQzK8",
        "colab_type": "code",
        "colab": {}
      },
      "source": [
        "#Lấy tất cả đường đẫn đến ảnh \n",
        "filenames=os.listdir(\"data/\")\n",
        "print(filenames)\n",
        "labels=[]\n",
        "paths=[]\n",
        "images=[]\n",
        "c=0\n",
        "for i in filenames:\n",
        "  path=os.path.join(\"data/\",i)\n",
        "  file_images=os.listdir(path)\n",
        "  for j,f in enumerate(file_images):\n",
        "    image=os.path.join(path,f)\n",
        "    images.append(image)\n",
        "#Xáo trộn đường dẫn\n",
        "random.shuffle(images)\n",
        "images"
      ],
      "execution_count": null,
      "outputs": []
    },
    {
      "cell_type": "markdown",
      "metadata": {
        "id": "C-TD3VW7ocaU",
        "colab_type": "text"
      },
      "source": [
        "****\n",
        "\n",
        "\n"
      ]
    },
    {
      "cell_type": "markdown",
      "metadata": {
        "id": "X7tzfbr57y9d",
        "colab_type": "text"
      },
      "source": [
        "# Label data ở dạng One-hot Encoding"
      ]
    },
    {
      "cell_type": "code",
      "metadata": {
        "id": "1bMbyZczSZAN",
        "colab_type": "code",
        "colab": {
          "base_uri": "https://localhost:8080/",
          "height": 141
        },
        "outputId": "ed0f810c-42c5-4004-c7d2-6ebf425d0787"
      },
      "source": [
        "from keras.utils import np_utils \n",
        "labels = [int(p.split(os.path.sep)[-2]) for p in images]\n",
        "Labels = np_utils.to_categorical(labels, 35) \n",
        "Labels"
      ],
      "execution_count": null,
      "outputs": [
        {
          "output_type": "execute_result",
          "data": {
            "text/plain": [
              "array([[0., 0., 0., ..., 0., 0., 0.],\n",
              "       [0., 0., 0., ..., 0., 0., 0.],\n",
              "       [0., 0., 0., ..., 0., 0., 0.],\n",
              "       ...,\n",
              "       [0., 0., 0., ..., 0., 0., 0.],\n",
              "       [0., 0., 0., ..., 0., 0., 0.],\n",
              "       [0., 1., 0., ..., 0., 0., 0.]], dtype=float32)"
            ]
          },
          "metadata": {
            "tags": []
          },
          "execution_count": 5
        }
      ]
    },
    {
      "cell_type": "markdown",
      "metadata": {
        "id": "cbOzr9-375a3",
        "colab_type": "text"
      },
      "source": [
        "# **Đọc ảnh và tiền xử lý ảnh**"
      ]
    },
    {
      "cell_type": "markdown",
      "metadata": {
        "id": "OifHzCCyoiJl",
        "colab_type": "text"
      },
      "source": [
        "\n",
        "\n",
        "\n",
        "\n",
        "> Resize ảnh về kích thước chung là 28*28\n",
        "\n",
        "\n",
        "> Chuyển ảnh sang ảnh xám \n",
        "\n",
        "\n",
        "> Làm mờ ảnh để khử nhiễu sau đó chuyển ảnh về dạng Binary\n",
        "\n",
        "\n",
        "\n",
        "\n",
        "\n",
        "\n",
        "\n"
      ]
    },
    {
      "cell_type": "code",
      "metadata": {
        "id": "IVoBjhToURP6",
        "colab_type": "code",
        "colab": {
          "base_uri": "https://localhost:8080/",
          "height": 35
        },
        "outputId": "b7e88d84-d383-45d1-b74d-a301dbc1d608"
      },
      "source": [
        "from keras.preprocessing.image import load_img\n",
        "from keras.preprocessing.image import img_to_array\n",
        "from keras.applications import imagenet_utils\n",
        "import cv2\n",
        "Images = []\n",
        "for (j, imagePath) in enumerate(images):\n",
        "  img = cv2.imread(imagePath);\n",
        "  img=cv2.resize(img, (28,28))\n",
        "  roi_gray = cv2.cvtColor(img,cv2.COLOR_BGR2GRAY)\n",
        "  roi_blur = cv2.GaussianBlur(roi_gray,(3,3),1)\n",
        "  ret, thre = cv2.threshold(roi_blur,0,255,cv2.THRESH_BINARY_INV | cv2.THRESH_OTSU)\n",
        "  Images.append(thre)\n",
        "Images = np.array(Images)\n",
        "print(Images.shape)"
      ],
      "execution_count": null,
      "outputs": [
        {
          "output_type": "stream",
          "text": [
            "(1714, 28, 28)\n"
          ],
          "name": "stdout"
        }
      ]
    },
    {
      "cell_type": "markdown",
      "metadata": {
        "id": "6dGuNs9r8APR",
        "colab_type": "text"
      },
      "source": [
        "# **Chia tập dữ liệu**"
      ]
    },
    {
      "cell_type": "markdown",
      "metadata": {
        "id": "vNxvF6YJolir",
        "colab_type": "text"
      },
      "source": [
        "\n",
        "\n",
        "\n",
        "> Chia tập dữ liệu 90% cho training và 10% cho test\n",
        "\n"
      ]
    },
    {
      "cell_type": "code",
      "metadata": {
        "id": "I94GpkOtV6r9",
        "colab_type": "code",
        "colab": {}
      },
      "source": [
        "Images = Images.reshape(Images.shape[0], 28, 28, 1) \n",
        "X_train, X_test, y_train, y_test = train_test_split(Images, Labels, test_size=0.1, random_state=42)"
      ],
      "execution_count": null,
      "outputs": []
    },
    {
      "cell_type": "markdown",
      "metadata": {
        "id": "4sfu07S78Fuh",
        "colab_type": "text"
      },
      "source": [
        "# Xây dựng model"
      ]
    },
    {
      "cell_type": "markdown",
      "metadata": {
        "id": "tFABz0-8px87",
        "colab_type": "text"
      },
      "source": [
        "****\n",
        "\n",
        "\n",
        "> Sử dụng 5 layers, hàm loss sử dụng 'categorical_crossentropy', optimizer sử dụng 'adam'\n",
        "\n"
      ]
    },
    {
      "cell_type": "code",
      "metadata": {
        "id": "I9D2SCDXQP2v",
        "colab_type": "code",
        "colab": {
          "base_uri": "https://localhost:8080/",
          "height": 372
        },
        "outputId": "c06a7ac2-7985-49dd-91c5-965059284348"
      },
      "source": [
        "from keras.models import Sequential \n",
        "from keras.layers import Dense, Dropout, Activation, Flatten \n",
        "from keras.layers import Conv2D, MaxPooling2D \n",
        "model = Sequential()\n",
        "model.add(Conv2D(32, (3, 3), activation='relu', input_shape=(28,28,1)))\n",
        "model.add(Conv2D(32, (3, 3), activation='relu'))\n",
        "model.add(MaxPooling2D(pool_size=(2,2)))\n",
        "model.add(Flatten())\n",
        "model.add(Dense(128, activation='sigmoid'))\n",
        "model.add(Dense(35, activation='softmax'))\n",
        "model.compile(loss='categorical_crossentropy', optimizer='adam', metrics=['accuracy'])\n",
        "model.summary()"
      ],
      "execution_count": null,
      "outputs": [
        {
          "output_type": "stream",
          "text": [
            "Model: \"sequential_3\"\n",
            "_________________________________________________________________\n",
            "Layer (type)                 Output Shape              Param #   \n",
            "=================================================================\n",
            "conv2d_5 (Conv2D)            (None, 26, 26, 32)        320       \n",
            "_________________________________________________________________\n",
            "conv2d_6 (Conv2D)            (None, 24, 24, 32)        9248      \n",
            "_________________________________________________________________\n",
            "max_pooling2d_3 (MaxPooling2 (None, 12, 12, 32)        0         \n",
            "_________________________________________________________________\n",
            "flatten_3 (Flatten)          (None, 4608)              0         \n",
            "_________________________________________________________________\n",
            "dense_5 (Dense)              (None, 128)               589952    \n",
            "_________________________________________________________________\n",
            "dense_6 (Dense)              (None, 35)                4515      \n",
            "=================================================================\n",
            "Total params: 604,035\n",
            "Trainable params: 604,035\n",
            "Non-trainable params: 0\n",
            "_________________________________________________________________\n"
          ],
          "name": "stdout"
        }
      ]
    },
    {
      "cell_type": "markdown",
      "metadata": {
        "id": "DeUDoBLLYTxT",
        "colab_type": "text"
      },
      "source": [
        "# Traning"
      ]
    },
    {
      "cell_type": "markdown",
      "metadata": {
        "id": "-KHQxz2XqFHd",
        "colab_type": "text"
      },
      "source": [
        "**Bắt đầu traning**\n",
        "\n",
        "\n",
        "> Traning với batch size = 32, epochs = 30, nomalization dữ liệu trước khi traning\n",
        "\n"
      ]
    },
    {
      "cell_type": "code",
      "metadata": {
        "id": "4jqumL9cQQBE",
        "colab_type": "code",
        "colab": {}
      },
      "source": [
        "His = model.fit(X_train/255.0, y_train, validation_data=(X_test/255.0, y_test), batch_size=32, epochs=30, verbose=1)"
      ],
      "execution_count": null,
      "outputs": []
    },
    {
      "cell_type": "markdown",
      "metadata": {
        "id": "xlZrK3kNYZXU",
        "colab_type": "text"
      },
      "source": [
        "# Kết quả"
      ]
    },
    {
      "cell_type": "markdown",
      "metadata": {
        "id": "5y6UpARPqWfj",
        "colab_type": "text"
      },
      "source": [
        "**Kết quả thu được**"
      ]
    },
    {
      "cell_type": "code",
      "metadata": {
        "id": "czlUfuHZQQGg",
        "colab_type": "code",
        "colab": {
          "base_uri": "https://localhost:8080/",
          "height": 68
        },
        "outputId": "0009d51a-555b-4a5c-e912-3ec946cdfcdf"
      },
      "source": [
        "score = model.evaluate(X_test, y_test, verbose=0) \n",
        "print(\"epochs :\",30)\n",
        "print(\"score :\", score[1])\n",
        "print(\"[+] Finished\")"
      ],
      "execution_count": null,
      "outputs": [
        {
          "output_type": "stream",
          "text": [
            "epochs : 30\n",
            "score : 0.9242\n",
            "[+] Finished\n"
          ],
          "name": "stdout"
        }
      ]
    },
    {
      "cell_type": "markdown",
      "metadata": {
        "id": "4uJcsUfjqary",
        "colab_type": "text"
      },
      "source": [
        "**Lưu model**"
      ]
    },
    {
      "cell_type": "code",
      "metadata": {
        "id": "gW25AxM_QQKf",
        "colab_type": "code",
        "colab": {}
      },
      "source": [
        "model.save(\"model_plate/model.h5\")"
      ],
      "execution_count": null,
      "outputs": []
    }
  ]
}