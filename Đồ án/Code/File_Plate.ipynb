{
  "nbformat": 4,
  "nbformat_minor": 0,
  "metadata": {
    "colab": {
      "name": "File_Plate.ipynb",
      "provenance": [],
      "collapsed_sections": [],
      "include_colab_link": true
    },
    "kernelspec": {
      "name": "python3",
      "display_name": "Python 3"
    }
  },
  "cells": [
    {
      "cell_type": "markdown",
      "metadata": {
        "id": "view-in-github",
        "colab_type": "text"
      },
      "source": [
        "<a href=\"https://colab.research.google.com/github/chequanghuy/CS114.K21/blob/master/%C4%90%E1%BB%93%20%C3%A1n/Code/File_Plate.ipynb\" target=\"_parent\"><img src=\"https://colab.research.google.com/assets/colab-badge.svg\" alt=\"Open In Colab\"/></a>"
      ]
    },
    {
      "cell_type": "markdown",
      "metadata": {
        "id": "CHXo_KqnbUdg",
        "colab_type": "text"
      },
      "source": [
        "# Import thư viện và define"
      ]
    },
    {
      "cell_type": "markdown",
      "metadata": {
        "id": "-F8UQEqSrknF",
        "colab_type": "text"
      },
      "source": [
        "**Import thư viện và define một số biến**"
      ]
    },
    {
      "cell_type": "code",
      "metadata": {
        "id": "OHl1B2higVco",
        "colab_type": "code",
        "colab": {}
      },
      "source": [
        "import numpy as np\n",
        "import cv2\n",
        "import sys\n",
        "import os\n",
        "from sklearn import svm\n",
        "from sklearn.externals import joblib\n",
        "from sklearn import metrics\n",
        "\n",
        "plate_cascade = cv2.CascadeClassifier('weight/cascade.xml')\n",
        "\n",
        "PATH = \"images\"\n",
        "PATH_WEIGHT = \"weight\"\n",
        "# Vị trí của mảng tương ứng với nhãn của ký tự, ví dụ vị trí 10 là nhãn A\n",
        "LABELS = ['0','1','2','3','4','5','6','7','8','9', 'A','B','C','D','E',\n",
        "        'F','G','H','I','J','K','L','M','N','O','P','Q',\n",
        "        'R','S','T','U','V','W','X','Y','Z']"
      ],
      "execution_count": null,
      "outputs": []
    },
    {
      "cell_type": "markdown",
      "metadata": {
        "id": "7mdWorepbZNt",
        "colab_type": "text"
      },
      "source": [
        "# Di chuyển đến drive"
      ]
    },
    {
      "cell_type": "markdown",
      "metadata": {
        "id": "O2RriR3mr_r4",
        "colab_type": "text"
      },
      "source": [
        "**Trỏ đến drive**"
      ]
    },
    {
      "cell_type": "code",
      "metadata": {
        "id": "XBA-F2MEiD-M",
        "colab_type": "code",
        "colab": {
          "base_uri": "https://localhost:8080/",
          "height": 34
        },
        "outputId": "619e0c10-481c-422c-9ef5-c1d168645efc"
      },
      "source": [
        "from google.colab import drive\n",
        "drive.mount('/content/drive')\n",
        "%cd /content/drive/My\\ Drive/Colab\\ Notebooks/Doan/plate_bike"
      ],
      "execution_count": null,
      "outputs": [
        {
          "output_type": "stream",
          "text": [
            "Drive already mounted at /content/drive; to attempt to forcibly remount, call drive.mount(\"/content/drive\", force_remount=True).\n"
          ],
          "name": "stdout"
        }
      ]
    },
    {
      "cell_type": "markdown",
      "metadata": {
        "id": "1slF684CvFpl",
        "colab_type": "text"
      },
      "source": [
        ""
      ]
    },
    {
      "cell_type": "code",
      "metadata": {
        "id": "WpuyEi6voJD9",
        "colab_type": "code",
        "colab": {}
      },
      "source": [
        "#hàm sắp xếp ký tự biển số xe\n",
        "def sortY(a):   \n",
        "    return a[1]\n",
        "def sortX(a):\n",
        "    return a[0]\n",
        "\n"
      ],
      "execution_count": null,
      "outputs": []
    },
    {
      "cell_type": "markdown",
      "metadata": {
        "id": "d6m2oUggbffa",
        "colab_type": "text"
      },
      "source": [
        "# Dự đoán và so sánh kết quả"
      ]
    },
    {
      "cell_type": "markdown",
      "metadata": {
        "id": "G7TIw4eqvHEX",
        "colab_type": "text"
      },
      "source": [
        "**Dự đoán biển số xe**\n",
        "\n",
        "\n",
        "> Tương tự code plateDetection nhưng ở đây sẽ trích xuất thông tin biển số của 1 file sau đó lưu lại kết quả vào folder result \n",
        "\n",
        "\n"
      ]
    },
    {
      "cell_type": "code",
      "metadata": {
        "id": "p6LL3DoKgYl6",
        "colab_type": "code",
        "colab": {
          "base_uri": "https://localhost:8080/",
          "height": 85
        },
        "outputId": "d3075e20-880a-4527-cfc7-d58cd161ae36"
      },
      "source": [
        "plate_cascade = cv2.CascadeClassifier('weight/cascade.xml')   #load model đã train CascadeClassifier\n",
        "files = [os.path.join(PATH,f) for f in os.listdir(PATH) ]     #lưu tất cả ảnh trong PATH vào mảng files\n",
        "countImg=0                                                    #biến lưu số lượng ảnh\n",
        "countAcc=0                                                    #biến lưu số lượng ảnh chính xác\n",
        "countDetc=0                                                   #biến lưu số lượng ảnh detect được\n",
        "for f in files:                                               #duyệt qua từng ảnh\n",
        "        countImg=countImg+1                                   #đọc được ảnh thì tăng biến lên\n",
        "        img = cv2.imread(f)                                   #đọc ảnh\n",
        "        img=cv2.resize(img,(600,480))                         #resize ảnh\n",
        "        gray = cv2.cvtColor(img, cv2.COLOR_BGR2GRAY)          #chuyển sang ảnh xám\n",
        "        gray = cv2.equalizeHist(gray)                         #cân bằng histogram trong ảnh\n",
        "        plates = plate_cascade.detectMultiScale(gray, 1.1, 3) #detect biển số xe trong ảnh\n",
        "        \n",
        "        if len(plates) != 0:                                  #nếu detect được\n",
        "                countDetc=countDetc+1                         \n",
        "                arrs=[]\n",
        "                for (x,y,w,h) in plates:                      #lấy tọa độ biển số xe\n",
        "                        img = cv2.rectangle(img,(x,y),(x+w,y+h),(255,0,0),2)\n",
        "\n",
        "\n",
        "                roi = img[y:y+h, x:x+w]\n",
        "\n",
        "                # cv2.imwrite(\"result/plate.jpg\", roi)\n",
        "\n",
        "                                                                # Chuyển ảnh BGR sang ảnh xám \n",
        "                roi_gray = cv2.cvtColor(roi,cv2.COLOR_BGR2GRAY)\n",
        "\n",
        "                # cv2.imwrite(\"result/roi_gray.jpg\", roi_gray)\n",
        "\n",
        "                                                                # Lọc nhiễu bằng GaussianBlur\n",
        "                roi_blur = cv2.GaussianBlur(roi_gray,(3,3),1)\n",
        "\n",
        "                # cv2.imwrite(\"result/roi_blur.jpg\", roi_blur)\n",
        "\n",
        "                                                                # Dùng THRESH_BINARY_INV đưa ảnh về trắng đen\n",
        "                # ret,thre = cv2.threshold(roi_blur,170,255,cv2.THRESH_BINARY_INV)\n",
        "                ret, thre = cv2.threshold(roi_blur,0,255,cv2.THRESH_BINARY_INV | cv2.THRESH_OTSU)\n",
        "                # cv2.imwrite(\"result/roi_thre.jpg\", thre)\n",
        "\n",
        "                kernel = np.ones((3,3), np.uint8)\n",
        "\n",
        "                '''Thuật toán dilate\n",
        "                Xem ví dụ tại: https://docs.opencv.org/trunk/d9/d61/tutorial_py_morphological_ops.html'''\n",
        "                kerel3 = cv2.getStructuringElement(cv2.MORPH_RECT,(3,3))\n",
        "                thre_mor = cv2.morphologyEx(thre,cv2.MORPH_DILATE,kerel3)\n",
        "                # thre_mor = cv2.dilate(thre_mor,kernel,iterations=1)\n",
        "\n",
        "                                                                  # Tìm tất cả các contours trên ảnh\n",
        "                mask = np.zeros(img.shape, np.uint8)\n",
        "                cont, hier = cv2.findContours(thre_mor,cv2.RETR_LIST,cv2.CHAIN_APPROX_SIMPLE)\n",
        "                cv2.drawContours(mask, cont, -1, 255, -1)\n",
        "\n",
        "                                                                  # Xác định các contours là ký tự, biển xe ô tô VN \n",
        "                areas_ind = {}\n",
        "                areas = []\n",
        "                for ind,cnt in enumerate(cont) :\n",
        "                        area = cv2.contourArea(cnt)\n",
        "                        # print(area, roi_gray.shape[0] * roi_gray.shape[1])\n",
        "                        if((roi_gray.shape[0] * roi_gray.shape[1]) - area < 2000):\n",
        "                                continue\n",
        "                        else:\n",
        "                                areas_ind[area] = ind\n",
        "                                areas.append(area)\n",
        "                areas = sorted(areas,reverse=True)\n",
        "                if areas[9]>150:                                  #xác định biển số có 9 ký tự\n",
        "                    areas=areas[1:10]\n",
        "                else:\n",
        "                    areas=areas[1:9]                              #xác định biển số có 8 ký tự\n",
        "                # Tạo ma trận rộng có kích thước bằng kích thước ảnh đầu vào\n",
        "                mask_num = np.zeros(img.shape, np.uint8)\n",
        "\n",
        "                # Nhận diện ký tự vừa xác định\n",
        "                plate = []\n",
        "                for c,i in enumerate(areas):\n",
        "                        x1,y1,w1,h1 = cv2.boundingRect(cont[areas_ind[i]])\n",
        "                                                                  # Vẽ contour biển số đã lọc lên ảnh và hiển thị\n",
        "                        cv2.drawContours(mask_num, [cont[areas_ind[i]]], -1, 255, -1)\n",
        "                                \n",
        "                        char = roi[y1:y1+h1, x1:x1+w1]\n",
        "                        gray = cv2.cvtColor(cv2.resize(char,(50,50)), cv2.COLOR_BGR2GRAY)\n",
        "                        _, gray = cv2.threshold(gray,0,255,cv2.THRESH_BINARY_INV | cv2.THRESH_OTSU)\n",
        "                        gray = gray.reshape(1, gray.shape[0]*gray.shape[1])\n",
        "                                                                    # Load trọng số của mạng đã training\n",
        "                        clf = joblib.load(PATH_WEIGHT + '/svm.joblib')\n",
        "                        # print(clf.predict(gray)[0])\n",
        "\n",
        "                                                                    # Dự đoán ký tự và đưa vào mảng plate ký tự đã dự đoán\n",
        "                        plate.append(clf.predict(gray)[0])\n",
        "\n",
        "                        # cv2.imwrite(\"result/\" + f.split(\"/\")[-1].split(\".\")[0] + \"_\" + str(c) + \".jpg\", char)\n",
        "                        cv2.rectangle(img,(x+x1,y+y1),(x+x1+w1,y+y1+h1),(0,255,0),2)\n",
        "                        startX = x+x1\n",
        "                        startY = y+y1 - 15 if y+y1 - 15 > 15 else y+y1 + 15\n",
        "                        arr=[x1,y1,int(plate[-1])]\n",
        "                        arrs.append(arr)\n",
        "                        cv2.putText(img, str(LABELS[plate[-1]]), (startX, startY), cv2.FONT_HERSHEY_SIMPLEX, 0.5, (0, 0, 0), 2)# vẽ ký tự dự đoán lên biển số xe\n",
        "                cv2.imwrite(\"result/\" + f.split(\"/\")[-1], img)\n",
        "\n",
        "                                                                                            #sắp xếp ký tự trên biển số xe\n",
        "                arrTop=sorted(arrs,reverse=False, key=sortY)[0:4]\n",
        "                arrBot=sorted(arrs,reverse=False, key=sortY)[4:]\n",
        "                arrTop=sorted(arrTop,reverse=False, key=sortX)\n",
        "                arrBot=sorted(arrBot,reverse=False, key=sortX)\n",
        "                re=str()\n",
        "                for i in arrTop:\n",
        "                    # print(int(i))\n",
        "                    re=re+str(LABELS[i[2]])\n",
        "                re=re+\"-\"\n",
        "                for i in arrBot:\n",
        "                    re=re+str(LABELS[i[2]])\n",
        "                if(str(re)==str(f.split(\"/\")[-1].split(\".\")[0])):                           #nếu biển số xe dự đoán giống với label đã lưu trước đó tăng biến đếm\n",
        "                    countAcc=countAcc+1\n",
        "print(\"Images :\",countImg) #số ảnh đọc được\n",
        "print(\"Detected images :\",countDetc) #số ảnh detect được biển số xe\n",
        "print(\"Correct images :\",countAcc) #số ảnh trích xuất chính xác biển số xe\n",
        "print(\"Score :\",countAcc/countImg) #phẩn trăm chính xác            "
      ],
      "execution_count": null,
      "outputs": [
        {
          "output_type": "stream",
          "text": [
            "Images : 74\n",
            "Detected images : 67\n",
            "Correct images : 59\n",
            "Score : 0.7972972972972973\n"
          ],
          "name": "stdout"
        }
      ]
    }
  ]
}